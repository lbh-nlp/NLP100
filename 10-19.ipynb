{
 "cells": [
  {
   "cell_type": "code",
   "execution_count": null,
   "id": "d19dda30",
   "metadata": {},
   "outputs": [],
   "source": [
    "#10. 行数のカウント\n",
    "#ファイルの行数をカウントせよ。確認にはwcコマンドを用いよ。"
   ]
  },
  {
   "cell_type": "code",
   "execution_count": null,
   "id": "2808f412",
   "metadata": {},
   "outputs": [],
   "source": [
    "#11. 先頭からN行を出力\n",
    "#ファイルの先頭N行だけを表示せよ。例えば、N=10として先頭10行を表示せよ。確認にはheadコマンドを用いよ。"
   ]
  }
 ],
 "metadata": {
  "language_info": {
   "name": "python"
  }
 },
 "nbformat": 4,
 "nbformat_minor": 5
}
