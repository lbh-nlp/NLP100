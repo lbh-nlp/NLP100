{
 "cells": [
  {
   "cell_type": "code",
   "execution_count": null,
   "id": "d19dda30",
   "metadata": {},
   "outputs": [
    {
     "name": "stdout",
     "output_type": "stream",
     "text": [
      "2780\n"
     ]
    },
    {
     "data": {
      "text/plain": [
       "2780"
      ]
     },
     "execution_count": 25,
     "metadata": {},
     "output_type": "execute_result"
    }
   ],
   "source": [
    "#10. 行数のカウント\n",
    "#ファイルの行数をカウントせよ。確認にはwcコマンドを用いよ。\n",
    "with open(\"popular-names.txt\",'r') as f:\n",
    "    print(len(f.readlines()))        \n",
    "import pandas as pd\n",
    "data = pd.read_csv(\"popular-names.txt\", sep='\\t', header= None)\n",
    "len(data)\n",
    "\n",
    "#wc popular-names.txt -l"
   ]
  },
  {
   "cell_type": "code",
   "execution_count": null,
   "id": "2808f412",
   "metadata": {},
   "outputs": [
    {
     "name": "stdout",
     "output_type": "stream",
     "text": [
      "Mary\tF\t7065\t1880\n",
      "Anna\tF\t2604\t1880\n",
      "Emma\tF\t2003\t1880\n",
      "Elizabeth\tF\t1939\t1880\n",
      "Minnie\tF\t1746\t1880\n",
      "Margaret\tF\t1578\t1880\n",
      "Ida\tF\t1472\t1880\n",
      "Alice\tF\t1414\t1880\n",
      "Bertha\tF\t1320\t1880\n",
      "Sarah\tF\t1288\t1880\n",
      "\n",
      "           0  1     2     3\n",
      "0       Mary  F  7065  1880\n",
      "1       Anna  F  2604  1880\n",
      "2       Emma  F  2003  1880\n",
      "3  Elizabeth  F  1939  1880\n",
      "4     Minnie  F  1746  1880\n",
      "5   Margaret  F  1578  1880\n",
      "6        Ida  F  1472  1880\n",
      "7      Alice  F  1414  1880\n",
      "8     Bertha  F  1320  1880\n",
      "9      Sarah  F  1288  1880\n",
      "           0  1     2     3\n",
      "0       Mary  F  7065  1880\n",
      "1       Anna  F  2604  1880\n",
      "2       Emma  F  2003  1880\n",
      "3  Elizabeth  F  1939  1880\n",
      "4     Minnie  F  1746  1880\n",
      "5   Margaret  F  1578  1880\n",
      "6        Ida  F  1472  1880\n",
      "7      Alice  F  1414  1880\n",
      "8     Bertha  F  1320  1880\n",
      "9      Sarah  F  1288  1880\n"
     ]
    }
   ],
   "source": [
    "#11. 先頭からN行を出力\n",
    "#ファイルの先頭N行だけを表示せよ。例えば、N=10として先頭10行を表示せよ。確認にはheadコマンドを用いよ。\n",
    "def show_first_n_lines(file_adr, n):\n",
    "    with open(file_adr, 'r') as f:\n",
    "        lines = f.readlines()\n",
    "        print(''.join(lines[:n]))\n",
    "file_adr = \"popular-names.txt\"\n",
    "show_first_n_lines(file_adr, 10)\n",
    "import pandas as pd\n",
    "def show_first_n_lines(data, n):\n",
    "    print(data[:n])\n",
    "    print(data.head(n))\n",
    "data = pd.read_csv(\"popular-names.txt\", sep='\\t', header= None)\n",
    "show_first_n_lines(data, 10)"
   ]
  },
  {
   "cell_type": "code",
   "execution_count": 37,
   "id": "9051d4c7",
   "metadata": {},
   "outputs": [
    {
     "name": "stdout",
     "output_type": "stream",
     "text": [
      "Liam\tM\t19837\t2018\n",
      "Noah\tM\t18267\t2018\n",
      "William\tM\t14516\t2018\n",
      "James\tM\t13525\t2018\n",
      "Oliver\tM\t13389\t2018\n",
      "Benjamin\tM\t13381\t2018\n",
      "Elijah\tM\t12886\t2018\n",
      "Lucas\tM\t12585\t2018\n",
      "Mason\tM\t12435\t2018\n",
      "Logan\tM\t12352\t2018\n",
      "\n",
      "             0  1      2     3\n",
      "2770      Liam  M  19837  2018\n",
      "2771      Noah  M  18267  2018\n",
      "2772   William  M  14516  2018\n",
      "2773     James  M  13525  2018\n",
      "2774    Oliver  M  13389  2018\n",
      "2775  Benjamin  M  13381  2018\n",
      "2776    Elijah  M  12886  2018\n",
      "2777     Lucas  M  12585  2018\n",
      "2778     Mason  M  12435  2018\n",
      "2779     Logan  M  12352  2018\n",
      "             0  1      2     3\n",
      "2770      Liam  M  19837  2018\n",
      "2771      Noah  M  18267  2018\n",
      "2772   William  M  14516  2018\n",
      "2773     James  M  13525  2018\n",
      "2774    Oliver  M  13389  2018\n",
      "2775  Benjamin  M  13381  2018\n",
      "2776    Elijah  M  12886  2018\n",
      "2777     Lucas  M  12585  2018\n",
      "2778     Mason  M  12435  2018\n",
      "2779     Logan  M  12352  2018\n"
     ]
    }
   ],
   "source": [
    "#12. 末尾のN行を出力\n",
    "#ファイルの末尾N行だけを表示せよ。例えば、N=10として末尾10行を表示せよ。確認にはtailコマンドを用いよ。\n",
    "def show_last_n_lines(file_adr, n):\n",
    "    with open(file_adr, 'r') as f:\n",
    "        lines = f.readlines()\n",
    "        print(''.join(lines[-n:]))\n",
    "file_adr = \"popular-names.txt\"\n",
    "show_last_n_lines(file_adr, 10)\n",
    "\n",
    "import pandas as pd\n",
    "def show_last_n_lines(file_adr, n):\n",
    "    data = pd.read_csv(file_adr, sep = '\\t', header=None)\n",
    "    print(data.tail(n))\n",
    "    print(data[-n:])\n",
    "file_adr = \"popular-names.txt\"\n",
    "show_last_n_lines(file_adr, 10)"
   ]
  },
  {
   "cell_type": "code",
   "execution_count": null,
   "id": "164a08fe",
   "metadata": {},
   "outputs": [],
   "source": [
    "#13. タブをスペースに置換\n",
    "#ファイルの先頭10行に対して、タブ1文字につきスペース1文字に置換して出力せよ。確認にはsedコマンド、trコマンド、もしくはexpandコマンドなどを用いよ。\n"
   ]
  }
 ],
 "metadata": {
  "kernelspec": {
   "display_name": "Python 3",
   "language": "python",
   "name": "python3"
  },
  "language_info": {
   "codemirror_mode": {
    "name": "ipython",
    "version": 3
   },
   "file_extension": ".py",
   "mimetype": "text/x-python",
   "name": "python",
   "nbconvert_exporter": "python",
   "pygments_lexer": "ipython3",
   "version": "3.11.9"
  }
 },
 "nbformat": 4,
 "nbformat_minor": 5
}
