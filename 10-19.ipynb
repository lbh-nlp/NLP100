{
 "cells": [
  {
   "cell_type": "code",
   "execution_count": null,
   "id": "d19dda30",
   "metadata": {},
   "outputs": [],
   "source": [
    "#10. 行数のカウント\n",
    "#ファイルの行数をカウントせよ。確認にはwcコマンドを用いよ。"
   ]
  }
 ],
 "metadata": {
  "language_info": {
   "name": "python"
  }
 },
 "nbformat": 4,
 "nbformat_minor": 5
}
