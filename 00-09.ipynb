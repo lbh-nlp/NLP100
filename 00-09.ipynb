{
 "cells": [
  {
   "cell_type": "code",
   "execution_count": 14,
   "id": "95f76c8d",
   "metadata": {},
   "outputs": [
    {
     "data": {
      "text/plain": [
       "'パタトクカシーー'"
      ]
     },
     "execution_count": 14,
     "metadata": {},
     "output_type": "execute_result"
    }
   ],
   "source": [
    "#00. パタトクカシーー\n",
    "#2つの文字列「パトカー」と「タクシー」の文字を先頭から交互に連結し、文字列「パタトクカシーー」を得よ。\n",
    "#00解答1\n",
    "str1 = \"パトカー\"\n",
    "str2 = \"タクシー\"\n",
    "result = \"\"\n",
    "for ch1, ch2 in zip(str1, str2):\n",
    "    result += ch1\n",
    "    result += ch2\n",
    "result"
   ]
  },
  {
   "cell_type": "code",
   "execution_count": 15,
   "id": "c4a179bd",
   "metadata": {},
   "outputs": [
    {
     "data": {
      "text/plain": [
       "'パタトクカシーー'"
      ]
     },
     "execution_count": 15,
     "metadata": {},
     "output_type": "execute_result"
    }
   ],
   "source": [
    "#00解答2\n",
    "str1 = \"パトカー\"\n",
    "str2 = \"タクシー\"\n",
    "result = \"\".join(ch1 + ch2 for ch1, ch2 in zip(str1, str2))\n",
    "result"
   ]
  },
  {
   "cell_type": "code",
   "execution_count": 16,
   "id": "bde0e573",
   "metadata": {},
   "outputs": [
    {
     "data": {
      "text/plain": [
       "'タクシー'"
      ]
     },
     "execution_count": 16,
     "metadata": {},
     "output_type": "execute_result"
    }
   ],
   "source": [
    "#01. タクシー\n",
    "#文字列「パタトクカシーー」の2, 4, 6, 8文字目を取り出し、それらを連結した文字列を得よ。\n",
    "str1 = \"パタトクカシーー\"\n",
    "result = str1[1:len(str1):2]\n",
    "result"
   ]
  },
  {
   "cell_type": "code",
   "execution_count": 17,
   "id": "465990bc",
   "metadata": {},
   "outputs": [
    {
     "data": {
      "text/plain": [
       "'desserts'"
      ]
     },
     "execution_count": 17,
     "metadata": {},
     "output_type": "execute_result"
    }
   ],
   "source": [
    "#02. 文字列の逆順\n",
    "#文字列”stressed”の文字を逆に（末尾から先頭に向かって）並べた文字列を得よ。\n",
    "str1 = \"stressed\"\n",
    "result = str1[::-1]\n",
    "result"
   ]
  },
  {
   "cell_type": "code",
   "execution_count": 18,
   "id": "87633b72",
   "metadata": {},
   "outputs": [
    {
     "data": {
      "text/plain": [
       "'314159265358979'"
      ]
     },
     "execution_count": 18,
     "metadata": {},
     "output_type": "execute_result"
    }
   ],
   "source": [
    "#03. 円周率\n",
    "#“Now I need a drink, alcoholic of course, after the heavy lectures involving quantum mechanics.”という文を単語に分解し、各単語の（アルファベットの）文字数を先頭から出現順に並べたリストを作成せよ。\n",
    "str1 = \"Now I need a drink, alcoholic of course, after the heavy lectures involving quantum mechanics.\"\n",
    "words = str1.replace(\",\",\"\").replace(\".\",\"\").split(\" \")\n",
    "length = \"\"\n",
    "for word in words:\n",
    "    length += str(len(word))\n",
    "length"
   ]
  },
  {
   "cell_type": "code",
   "execution_count": 19,
   "id": "b12bed2e",
   "metadata": {},
   "outputs": [
    {
     "data": {
      "text/plain": [
       "{'H': 1,\n",
       " 'He': 2,\n",
       " 'Li': 3,\n",
       " 'Be': 4,\n",
       " 'B': 5,\n",
       " 'C': 6,\n",
       " 'N': 7,\n",
       " 'O': 8,\n",
       " 'F': 9,\n",
       " 'Ne': 10,\n",
       " 'Na': 11,\n",
       " 'Mi': 12,\n",
       " 'Al': 13,\n",
       " 'Si': 14,\n",
       " 'P': 15,\n",
       " 'S': 16,\n",
       " 'Cl': 17,\n",
       " 'Ar': 18,\n",
       " 'K': 19,\n",
       " 'Ca': 20}"
      ]
     },
     "execution_count": 19,
     "metadata": {},
     "output_type": "execute_result"
    }
   ],
   "source": [
    "#04. 元素記号\n",
    "#“Hi He Lied Because Boron Could Not Oxidize Fluorine. New Nations Might Also Sign Peace Security Clause. Arthur King Can.”という文を単語に分解し、1, 5, 6, 7, 8, 9, 15, 16, 19番目の単語は先頭の1文字、それ以外の単語は先頭の2文字を取り出し、取り出した文字列から単語の位置（先頭から何番目の単語か）への連想配列（辞書型もしくはマップ型）を作成せよ。\n",
    "def solution(text):\n",
    "    words = text.replace(\".\", \"\").split(\" \")\n",
    "    result = {}\n",
    "    for idx, word in enumerate(words):\n",
    "        if idx + 1 in [1, 5, 6, 7, 8, 9, 15, 16, 19]:\n",
    "            result[word[:1]] = idx + 1\n",
    "        else:\n",
    "            result[word[:2]] = idx + 1\n",
    "    return result\n",
    "\n",
    "str1 = \"Hi He Lied Because Boron Could Not Oxidize Fluorine. New Nations Might Also Sign Peace Security Clause. Arthur King Can.\"\n",
    "solution(str1)"
   ]
  },
  {
   "cell_type": "code",
   "execution_count": 20,
   "id": "c575e19f",
   "metadata": {},
   "outputs": [
    {
     "data": {
      "text/plain": [
       "[['I', 'am', 'an'], ['am', 'an', 'NLPer']]"
      ]
     },
     "execution_count": 20,
     "metadata": {},
     "output_type": "execute_result"
    }
   ],
   "source": [
    "#05. n-gram\n",
    "#与えられたシーケンス（文字列やリストなど）からn-gramを作る関数を作成せよ。この関数を用い、”I am an NLPer”という文から文字tri-gram、単語bi-gramを得よ。\n",
    "def n_gram(text: str, n : int):\n",
    "    words = text.split(\" \")\n",
    "    result = []\n",
    "    if len(words) >= n:\n",
    "        for i in range(len(words) - n + 1):\n",
    "            n_words = words[i:i + n] \n",
    "            result.append(n_words)\n",
    "    else:\n",
    "        raise ValueError(\"input text is smaller than n\")\n",
    "    return result\n",
    "text = \"I am an NLPer\"\n",
    "result = n_gram(text, 3)\n",
    "result"
   ]
  },
  {
   "cell_type": "code",
   "execution_count": 21,
   "id": "6354ef5b",
   "metadata": {},
   "outputs": [
    {
     "name": "stdout",
     "output_type": "stream",
     "text": [
      "{'ad', 'di', 'se', 'gr', 'ap', 'ag', 'is', 'ph', 'ra', 'pa', 'ar'}\n",
      "{'ar', 'pa', 'ap', 'ra'}\n",
      "{'ad', 'di', 'is', 'se'}\n",
      "se is in X:  True\n",
      "se is in X:  False\n"
     ]
    }
   ],
   "source": [
    "#06 集合\n",
    "a = \"paraparaparadise\"\n",
    "b = \"paragraph\"\n",
    "x = [a[i:i + 2] for i in range(len(a) - 1)]\n",
    "y = [b[i:i + 2] for i in range(len(b) - 1)]\n",
    "print(set(x) | set(y)) #and\n",
    "print(set(x) & set(y)) #or\n",
    "print(set(x) - set(y)) #not\n",
    "print(\"se is in X: \",\"se\" in x)\n",
    "print(\"se is in X: \",\"se\" in y)\n"
   ]
  },
  {
   "cell_type": "code",
   "execution_count": 22,
   "id": "2361c242",
   "metadata": {},
   "outputs": [
    {
     "data": {
      "text/plain": [
       "'12時の気温は22.4'"
      ]
     },
     "execution_count": 22,
     "metadata": {},
     "output_type": "execute_result"
    }
   ],
   "source": [
    "#07. テンプレートによる文生成\n",
    "#f-string or format\n",
    "def solution(x: int, y: str, z:int):\n",
    "    return f'{x}時の{y}は{z}'\n",
    "\n",
    "solution(12, \"気温\", 22.4)"
   ]
  },
  {
   "cell_type": "code",
   "execution_count": 23,
   "id": "88fb2dcb",
   "metadata": {},
   "outputs": [
    {
     "name": "stdout",
     "output_type": "stream",
     "text": [
      "Hvool dliow 123!!!\n",
      "Hello world 123!!!\n"
     ]
    }
   ],
   "source": [
    "#08. 暗号文\n",
    "#65~90 and 97~122\n",
    "def cipher(text:str):\n",
    "    return \"\".join([chr(219 - ord(ch)) if ch.islower() else ch for ch in text])\n",
    "t = 'Hello world 123!!!'\n",
    "print(cipher(t))\n",
    "print(cipher(cipher(t)))\n"
   ]
  },
  {
   "cell_type": "code",
   "execution_count": 24,
   "id": "21f9c833",
   "metadata": {},
   "outputs": [
    {
     "data": {
      "text/plain": [
       "'I colun’dt beevlie that I cluod atlcualy uasnnedtrd waht I was rneaidg : the pnemnoeahl power of the hamun mnid .'"
      ]
     },
     "execution_count": 24,
     "metadata": {},
     "output_type": "execute_result"
    }
   ],
   "source": [
    "#09. Typoglycemia\n",
    "#スペースで区切られた単語列に対して、各単語の先頭と末尾の文字は残し、それ以外の文字の順序をランダムに並び替えるプログラムを作成せよ。ただし、長さが４以下の単語は並び替えないこととする。適当な英語の文（例えば”I couldn’t believe that I could actually understand what I was reading : the phenomenal power of the human mind .”）を与え、その実行結果を確認せよ。\n",
    "import random\n",
    "def Typoglycemia(word:str):\n",
    "    start_ch = word[0]\n",
    "    end_ch = word[-1]\n",
    "    if len(word) < 4:\n",
    "        return word    \n",
    "    else:\n",
    "        others = random.sample(word[1:-1], len(word)-2)\n",
    "        return ''.join([start_ch] + others + [end_ch])\n",
    "text = \"I couldn’t believe that I could actually understand what I was reading : the phenomenal power of the human mind .\"\n",
    "text = text.split(\" \")\n",
    "\" \".join([Typoglycemia(word) for word in text])"
   ]
  }
 ],
 "metadata": {
  "kernelspec": {
   "display_name": "Python 3",
   "language": "python",
   "name": "python3"
  },
  "language_info": {
   "codemirror_mode": {
    "name": "ipython",
    "version": 3
   },
   "file_extension": ".py",
   "mimetype": "text/x-python",
   "name": "python",
   "nbconvert_exporter": "python",
   "pygments_lexer": "ipython3",
   "version": "3.11.9"
  }
 },
 "nbformat": 4,
 "nbformat_minor": 5
}
